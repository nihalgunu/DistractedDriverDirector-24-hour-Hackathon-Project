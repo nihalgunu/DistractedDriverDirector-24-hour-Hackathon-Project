{
  "nbformat": 4,
  "nbformat_minor": 0,
  "metadata": {
    "colab": {
      "provenance": [],
      "authorship_tag": "ABX9TyP82Dq8f5VEahgEzS6FdPZt",
      "include_colab_link": true
    },
    "kernelspec": {
      "name": "python3",
      "display_name": "Python 3"
    },
    "language_info": {
      "name": "python"
    }
  },
  "cells": [
    {
      "cell_type": "markdown",
      "metadata": {
        "id": "view-in-github",
        "colab_type": "text"
      },
      "source": [
        "<a href=\"https://colab.research.google.com/github/nihalgunu/DistractedDriverDirector-DDD/blob/master/DistractedDriverRecognitionApplication.ipynb\" target=\"_parent\"><img src=\"https://colab.research.google.com/assets/colab-badge.svg\" alt=\"Open In Colab\"/></a>"
      ]
    },
    {
      "cell_type": "code",
      "source": [
        "!unzip CleanedDrivingSet.zip"
      ],
      "metadata": {
        "colab": {
          "base_uri": "https://localhost:8080/"
        },
        "id": "XowFFFnuR0s9",
        "outputId": "bea9e9d0-c7ea-496d-81db-c563365f57c7"
      },
      "execution_count": null,
      "outputs": [
        {
          "metadata": {
            "tags": null
          },
          "name": "stdout",
          "output_type": "stream",
          "text": [
            "Archive:  CleanedDrivingSet.zip\n",
            "replace __MACOSX/._DrivingSet? [y]es, [n]o, [A]ll, [N]one, [r]ename: "
          ]
        }
      ]
    },
    {
      "cell_type": "code",
      "source": [
        "import tensorflow as tf\n",
        "import matplotlib.pyplot as plt"
      ],
      "metadata": {
        "id": "e0hJArgDSEdN"
      },
      "execution_count": null,
      "outputs": []
    },
    {
      "cell_type": "code",
      "source": [
        "img_height, img_width = 64, 64\n",
        "batch_size = 100\n",
        "\n",
        "train_ds = tf.keras.utils.image_dataset_from_directory(\n",
        "    \"DrivingSet/train\",\n",
        "    image_size = (img_height, img_width),\n",
        "    batch_size = batch_size\n",
        ")"
      ],
      "metadata": {
        "id": "IyXNfaBRSusC",
        "colab": {
          "base_uri": "https://localhost:8080/"
        },
        "outputId": "41728d85-f066-4e8e-f8d4-4420b074137c"
      },
      "execution_count": null,
      "outputs": [
        {
          "output_type": "stream",
          "name": "stdout",
          "text": [
            "Found 20106 files belonging to 7 classes.\n"
          ]
        }
      ]
    },
    {
      "cell_type": "code",
      "source": [
        "class_names = [\"Safe_Driving\", \"Cellphone_Usage\", \"Hand_On_Face\", \"Drinking\", \"Turned_Away\", \"One_Hand_On_Wheel\", \"Eyes_Off_Road\"]\n",
        "plt.figure(figsize=(10,10))\n",
        "for images, labels in train_ds.take(1):\n",
        "  for i in range(9):\n",
        "    ax = plt.subplot(3,3, i + 1)\n",
        "    plt.imshow(images[i].numpy().astype(\"uint8\"))\n",
        "    plt.title(class_names[labels[i]])\n",
        "    plt.axis(\"off\")"
      ],
      "metadata": {
        "id": "9j1OOeHWTmXd"
      },
      "execution_count": null,
      "outputs": []
    },
    {
      "cell_type": "code",
      "source": [
        "model = tf.keras.Sequential(\n",
        "    [\n",
        "      tf.keras.layers.Rescaling(1./255),\n",
        "      tf.keras.layers.Conv2D(128, 3, activation=\"relu\"),\n",
        "      tf.keras.layers.MaxPooling2D(),\n",
        "      tf.keras.layers.Conv2D(128, 3, activation = \"relu\"),\n",
        "      tf.keras.layers.MaxPooling2D(),\n",
        "      tf.keras.layers.Flatten(),\n",
        "      tf.keras.layers.Dense(128, activation =\"relu\"),\n",
        "      tf.keras.layers.Dense(7)\n",
        "    ]\n",
        "\n",
        ")"
      ],
      "metadata": {
        "id": "vF6EQmeRVKQR"
      },
      "execution_count": null,
      "outputs": []
    },
    {
      "cell_type": "code",
      "source": [
        "model.compile(\n",
        "    optimizer=\"adam\",\n",
        "    loss=tf.losses.SparseCategoricalCrossentropy(from_logits = True),\n",
        "    metrics=['accuracy']\n",
        ")"
      ],
      "metadata": {
        "id": "yInyXfOzWFRe"
      },
      "execution_count": null,
      "outputs": []
    },
    {
      "cell_type": "code",
      "source": [
        "model.fit(\n",
        "    train_ds,\n",
        "    epochs = 4\n",
        ")"
      ],
      "metadata": {
        "colab": {
          "base_uri": "https://localhost:8080/"
        },
        "id": "tdXTYoLaW7sr",
        "outputId": "b598768a-4649-4c02-a18d-f6818869a207"
      },
      "execution_count": null,
      "outputs": [
        {
          "output_type": "stream",
          "name": "stdout",
          "text": [
            "Epoch 1/4\n",
            "202/202 [==============================] - 562s 3s/step - loss: 0.9006 - accuracy: 0.6808\n",
            "Epoch 2/4\n",
            "202/202 [==============================] - 549s 3s/step - loss: 0.1335 - accuracy: 0.9615\n",
            "Epoch 3/4\n",
            "202/202 [==============================] - 543s 3s/step - loss: 0.0495 - accuracy: 0.9859\n",
            "Epoch 4/4\n",
            "202/202 [==============================] - 560s 3s/step - loss: 0.0219 - accuracy: 0.9938\n"
          ]
        },
        {
          "output_type": "execute_result",
          "data": {
            "text/plain": [
              "<keras.src.callbacks.History at 0x7be26483e7a0>"
            ]
          },
          "metadata": {},
          "execution_count": 8
        }
      ]
    },
    {
      "cell_type": "code",
      "source": [
        "converter = tf.lite.TFLiteConverter.from_keras_model(model)\n",
        "tflite_model = converter.convert()\n",
        "\n",
        "with open(\"model.tflite2\", 'wb') as f:\n",
        "  f.write(tflite_model)"
      ],
      "metadata": {
        "id": "DzC2F2ylXh7x"
      },
      "execution_count": null,
      "outputs": []
    }
  ]
}